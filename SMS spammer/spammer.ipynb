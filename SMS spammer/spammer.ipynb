{
 "cells": [
  {
   "cell_type": "code",
   "execution_count": 5,
   "id": "fluid-isolation",
   "metadata": {},
   "outputs": [],
   "source": [
    "import numpy as np\n",
    "import pandas as pd\n",
    "import matplotlib.pyplot as plt"
   ]
  },
  {
   "cell_type": "markdown",
   "id": "indonesian-airplane",
   "metadata": {},
   "source": [
    "The SMS Spam Collection is a set of SMS tagged messages that have been collected for SMS Spam research. **train.csv** contains one set of SMS messages in English of 9543 messages, tagged acording being 0 (legitimate) or 1 (spam).\n",
    "**test.csv** contains set of messages without any labels. we should predict the probability of these messages to be spam.\n",
    "we train the model using logistic regression and got 95%."
   ]
  },
  {
   "cell_type": "code",
   "execution_count": 87,
   "id": "cellular-effects",
   "metadata": {},
   "outputs": [
    {
     "data": {
      "text/html": [
       "<div>\n",
       "<style scoped>\n",
       "    .dataframe tbody tr th:only-of-type {\n",
       "        vertical-align: middle;\n",
       "    }\n",
       "\n",
       "    .dataframe tbody tr th {\n",
       "        vertical-align: top;\n",
       "    }\n",
       "\n",
       "    .dataframe thead th {\n",
       "        text-align: right;\n",
       "    }\n",
       "</style>\n",
       "<table border=\"1\" class=\"dataframe\">\n",
       "  <thead>\n",
       "    <tr style=\"text-align: right;\">\n",
       "      <th></th>\n",
       "      <th>Text</th>\n",
       "      <th>Class</th>\n",
       "    </tr>\n",
       "  </thead>\n",
       "  <tbody>\n",
       "    <tr>\n",
       "      <th>0</th>\n",
       "      <td>I do.</td>\n",
       "      <td>0</td>\n",
       "    </tr>\n",
       "    <tr>\n",
       "      <th>1</th>\n",
       "      <td>What if anything was decided about whether I s...</td>\n",
       "      <td>0</td>\n",
       "    </tr>\n",
       "    <tr>\n",
       "      <th>2</th>\n",
       "      <td>H: If Roubini is right and he's been mostly ri...</td>\n",
       "      <td>0</td>\n",
       "    </tr>\n",
       "    <tr>\n",
       "      <th>3</th>\n",
       "      <td>HRC: Below is an oped on the National Security...</td>\n",
       "      <td>0</td>\n",
       "    </tr>\n",
       "    <tr>\n",
       "      <th>4</th>\n",
       "      <td>DQoNCg0KDQoNCg0KDQpHb29kIERheSwNCk1heSBpdCBub3...</td>\n",
       "      <td>1</td>\n",
       "    </tr>\n",
       "  </tbody>\n",
       "</table>\n",
       "</div>"
      ],
      "text/plain": [
       "                                                Text  Class\n",
       "0                                              I do.      0\n",
       "1  What if anything was decided about whether I s...      0\n",
       "2  H: If Roubini is right and he's been mostly ri...      0\n",
       "3  HRC: Below is an oped on the National Security...      0\n",
       "4  DQoNCg0KDQoNCg0KDQpHb29kIERheSwNCk1heSBpdCBub3...      1"
      ]
     },
     "execution_count": 87,
     "metadata": {},
     "output_type": "execute_result"
    }
   ],
   "source": [
    "df = pd.read_csv(\"train.csv\")\n",
    "df.head()"
   ]
  },
  {
   "cell_type": "code",
   "execution_count": 19,
   "id": "moral-legislation",
   "metadata": {},
   "outputs": [
    {
     "data": {
      "text/plain": [
       "Text     1\n",
       "Class    0\n",
       "dtype: int64"
      ]
     },
     "execution_count": 19,
     "metadata": {},
     "output_type": "execute_result"
    }
   ],
   "source": [
    "df.isnull().sum()"
   ]
  },
  {
   "cell_type": "code",
   "execution_count": 20,
   "id": "mexican-underground",
   "metadata": {},
   "outputs": [],
   "source": [
    "df.dropna(inplace=True)"
   ]
  },
  {
   "cell_type": "code",
   "execution_count": 21,
   "id": "fancy-sculpture",
   "metadata": {},
   "outputs": [
    {
     "data": {
      "text/plain": [
       "(9542, 2)"
      ]
     },
     "execution_count": 21,
     "metadata": {},
     "output_type": "execute_result"
    }
   ],
   "source": [
    "df.shape"
   ]
  },
  {
   "cell_type": "code",
   "execution_count": 32,
   "id": "prompt-climb",
   "metadata": {},
   "outputs": [
    {
     "data": {
      "text/plain": [
       "Class\n",
       "0    5393\n",
       "1    4149\n",
       "dtype: int64"
      ]
     },
     "execution_count": 32,
     "metadata": {},
     "output_type": "execute_result"
    }
   ],
   "source": [
    "df.groupby('Class').size()"
   ]
  },
  {
   "cell_type": "code",
   "execution_count": 22,
   "id": "proprietary-journey",
   "metadata": {},
   "outputs": [],
   "source": [
    "df.reset_index(inplace=True)"
   ]
  },
  {
   "cell_type": "code",
   "execution_count": 23,
   "id": "hindu-bibliography",
   "metadata": {},
   "outputs": [],
   "source": [
    "df.drop(columns=['index'],inplace=True)"
   ]
  },
  {
   "cell_type": "code",
   "execution_count": 24,
   "id": "psychological-karma",
   "metadata": {},
   "outputs": [
    {
     "data": {
      "text/html": [
       "<div>\n",
       "<style scoped>\n",
       "    .dataframe tbody tr th:only-of-type {\n",
       "        vertical-align: middle;\n",
       "    }\n",
       "\n",
       "    .dataframe tbody tr th {\n",
       "        vertical-align: top;\n",
       "    }\n",
       "\n",
       "    .dataframe thead th {\n",
       "        text-align: right;\n",
       "    }\n",
       "</style>\n",
       "<table border=\"1\" class=\"dataframe\">\n",
       "  <thead>\n",
       "    <tr style=\"text-align: right;\">\n",
       "      <th></th>\n",
       "      <th>Text</th>\n",
       "      <th>Class</th>\n",
       "    </tr>\n",
       "  </thead>\n",
       "  <tbody>\n",
       "    <tr>\n",
       "      <th>0</th>\n",
       "      <td>I do.</td>\n",
       "      <td>0</td>\n",
       "    </tr>\n",
       "    <tr>\n",
       "      <th>1</th>\n",
       "      <td>What if anything was decided about whether I s...</td>\n",
       "      <td>0</td>\n",
       "    </tr>\n",
       "    <tr>\n",
       "      <th>2</th>\n",
       "      <td>H: If Roubini is right and he's been mostly ri...</td>\n",
       "      <td>0</td>\n",
       "    </tr>\n",
       "    <tr>\n",
       "      <th>3</th>\n",
       "      <td>HRC: Below is an oped on the National Security...</td>\n",
       "      <td>0</td>\n",
       "    </tr>\n",
       "    <tr>\n",
       "      <th>4</th>\n",
       "      <td>DQoNCg0KDQoNCg0KDQpHb29kIERheSwNCk1heSBpdCBub3...</td>\n",
       "      <td>1</td>\n",
       "    </tr>\n",
       "    <tr>\n",
       "      <th>...</th>\n",
       "      <td>...</td>\n",
       "      <td>...</td>\n",
       "    </tr>\n",
       "    <tr>\n",
       "      <th>9537</th>\n",
       "      <td>Assume jake and pir talked to u about</td>\n",
       "      <td>0</td>\n",
       "    </tr>\n",
       "    <tr>\n",
       "      <th>9538</th>\n",
       "      <td>Experience in Southeast Asia [John Carland]below</td>\n",
       "      <td>0</td>\n",
       "    </tr>\n",
       "    <tr>\n",
       "      <th>9539</th>\n",
       "      <td>ATTN=3AC=2EE=2EO=2FPRESIDENT=2E I know this me...</td>\n",
       "      <td>1</td>\n",
       "    </tr>\n",
       "    <tr>\n",
       "      <th>9540</th>\n",
       "      <td>Dear Friend,How are you doing? I would be very...</td>\n",
       "      <td>1</td>\n",
       "    </tr>\n",
       "    <tr>\n",
       "      <th>9541</th>\n",
       "      <td>COMPLIMENTS OF THE SEASON=2C  With due respect...</td>\n",
       "      <td>1</td>\n",
       "    </tr>\n",
       "  </tbody>\n",
       "</table>\n",
       "<p>9542 rows × 2 columns</p>\n",
       "</div>"
      ],
      "text/plain": [
       "                                                   Text  Class\n",
       "0                                                 I do.      0\n",
       "1     What if anything was decided about whether I s...      0\n",
       "2     H: If Roubini is right and he's been mostly ri...      0\n",
       "3     HRC: Below is an oped on the National Security...      0\n",
       "4     DQoNCg0KDQoNCg0KDQpHb29kIERheSwNCk1heSBpdCBub3...      1\n",
       "...                                                 ...    ...\n",
       "9537              Assume jake and pir talked to u about      0\n",
       "9538   Experience in Southeast Asia [John Carland]below      0\n",
       "9539  ATTN=3AC=2EE=2EO=2FPRESIDENT=2E I know this me...      1\n",
       "9540  Dear Friend,How are you doing? I would be very...      1\n",
       "9541  COMPLIMENTS OF THE SEASON=2C  With due respect...      1\n",
       "\n",
       "[9542 rows x 2 columns]"
      ]
     },
     "execution_count": 24,
     "metadata": {},
     "output_type": "execute_result"
    }
   ],
   "source": [
    "df"
   ]
  },
  {
   "cell_type": "code",
   "execution_count": 25,
   "id": "closed-presentation",
   "metadata": {},
   "outputs": [
    {
     "data": {
      "text/html": [
       "<div>\n",
       "<style scoped>\n",
       "    .dataframe tbody tr th:only-of-type {\n",
       "        vertical-align: middle;\n",
       "    }\n",
       "\n",
       "    .dataframe tbody tr th {\n",
       "        vertical-align: top;\n",
       "    }\n",
       "\n",
       "    .dataframe thead th {\n",
       "        text-align: right;\n",
       "    }\n",
       "</style>\n",
       "<table border=\"1\" class=\"dataframe\">\n",
       "  <thead>\n",
       "    <tr style=\"text-align: right;\">\n",
       "      <th></th>\n",
       "      <th>Text</th>\n",
       "    </tr>\n",
       "  </thead>\n",
       "  <tbody>\n",
       "    <tr>\n",
       "      <th>0</th>\n",
       "      <td>FROM BONGO WALEJOHANNESBURG,SOUTH AFRICA.TELL:...</td>\n",
       "    </tr>\n",
       "    <tr>\n",
       "      <th>1</th>\n",
       "      <td>MR=2E DONALD COLLINSCREDIT MUTUEL DU SENEGAL B...</td>\n",
       "    </tr>\n",
       "    <tr>\n",
       "      <th>2</th>\n",
       "      <td>Meant to write that Solomon is a tough critic.</td>\n",
       "    </tr>\n",
       "    <tr>\n",
       "      <th>3</th>\n",
       "      <td>Well well</td>\n",
       "    </tr>\n",
       "    <tr>\n",
       "      <th>4</th>\n",
       "      <td>#226=2C TAYO RIMI=2CMEDINA=2CDAKAR=2C SENEGAL=...</td>\n",
       "    </tr>\n",
       "    <tr>\n",
       "      <th>...</th>\n",
       "      <td>...</td>\n",
       "    </tr>\n",
       "    <tr>\n",
       "      <th>2381</th>\n",
       "      <td>What about asking VMI to move to another day--...</td>\n",
       "    </tr>\n",
       "    <tr>\n",
       "      <th>2382</th>\n",
       "      <td>Asking to talk to you secureHoping to do it so...</td>\n",
       "    </tr>\n",
       "    <tr>\n",
       "      <th>2383</th>\n",
       "      <td>I am Barrister Omoego Darris, an Internat...</td>\n",
       "    </tr>\n",
       "    <tr>\n",
       "      <th>2384</th>\n",
       "      <td>Fyi - happy to give more context.</td>\n",
       "    </tr>\n",
       "    <tr>\n",
       "      <th>2385</th>\n",
       "      <td>Here's the update pieced together from various...</td>\n",
       "    </tr>\n",
       "  </tbody>\n",
       "</table>\n",
       "<p>2386 rows × 1 columns</p>\n",
       "</div>"
      ],
      "text/plain": [
       "                                                   Text\n",
       "0     FROM BONGO WALEJOHANNESBURG,SOUTH AFRICA.TELL:...\n",
       "1     MR=2E DONALD COLLINSCREDIT MUTUEL DU SENEGAL B...\n",
       "2        Meant to write that Solomon is a tough critic.\n",
       "3                                             Well well\n",
       "4     #226=2C TAYO RIMI=2CMEDINA=2CDAKAR=2C SENEGAL=...\n",
       "...                                                 ...\n",
       "2381  What about asking VMI to move to another day--...\n",
       "2382  Asking to talk to you secureHoping to do it so...\n",
       "2383       I am Barrister Omoego Darris, an Internat...\n",
       "2384                  Fyi - happy to give more context.\n",
       "2385  Here's the update pieced together from various...\n",
       "\n",
       "[2386 rows x 1 columns]"
      ]
     },
     "execution_count": 25,
     "metadata": {},
     "output_type": "execute_result"
    }
   ],
   "source": [
    "df_test = pd.read_csv('test.csv')\n",
    "df_test"
   ]
  },
  {
   "cell_type": "markdown",
   "id": "entitled-leeds",
   "metadata": {},
   "source": [
    "now we concatenate the test Data Frame and the train Data Frame"
   ]
  },
  {
   "cell_type": "code",
   "execution_count": 30,
   "id": "molecular-pillow",
   "metadata": {},
   "outputs": [],
   "source": [
    "df_ = df.drop(columns=['Class'])\n",
    "result = pd.concat([df_,df_test],ignore_index=True)"
   ]
  },
  {
   "cell_type": "code",
   "execution_count": 31,
   "id": "compatible-situation",
   "metadata": {},
   "outputs": [
    {
     "data": {
      "text/plain": [
       "(11928, 1)"
      ]
     },
     "execution_count": 31,
     "metadata": {},
     "output_type": "execute_result"
    }
   ],
   "source": [
    "result.shape"
   ]
  },
  {
   "cell_type": "code",
   "execution_count": 29,
   "id": "union-wrong",
   "metadata": {},
   "outputs": [],
   "source": [
    "import nltk\n",
    "# nltk.download('stopwords')"
   ]
  },
  {
   "cell_type": "markdown",
   "id": "ignored-leather",
   "metadata": {},
   "source": [
    "preprocess is a function that first, replace the punctuation words with null, second delete low use words like 'the', 'and' using **stopwords**, in the end we stem the words for example we replace tasting, tastes with taste(convert the words to its root) using **snowballStemmer**"
   ]
  },
  {
   "cell_type": "code",
   "execution_count": 33,
   "id": "differential-arthur",
   "metadata": {},
   "outputs": [],
   "source": [
    "import string\n",
    "from nltk.stem import SnowballStemmer\n",
    "from nltk.corpus import stopwords\n",
    "def preprocess(text):\n",
    "    text = text.translate(str.maketrans('', '', string.punctuation))\n",
    "    text = [word for word in text.split() if word.lower() not in stopwords.words('english')]\n",
    "    words = \"\"\n",
    "    for i in text:\n",
    "            stemmer = SnowballStemmer(\"english\")\n",
    "            words += (stemmer.stem(i))+\" \"\n",
    "    return words"
   ]
  },
  {
   "cell_type": "markdown",
   "id": "adaptive-marketplace",
   "metadata": {},
   "source": [
    "now here we get the out put text and give it to **TfidfVectorizer** function. this is a statistical method that Convert a collection of raw documents to a matrix of TF-IDF features."
   ]
  },
  {
   "cell_type": "code",
   "execution_count": 34,
   "id": "freelance-dinner",
   "metadata": {},
   "outputs": [
    {
     "name": "stderr",
     "output_type": "stream",
     "text": [
      "c:\\users\\home\\appdata\\local\\programs\\python\\python37-32\\lib\\site-packages\\sklearn\\utils\\validation.py:72: FutureWarning: Pass input=english as keyword args. From version 1.0 (renaming of 0.25) passing these as positional arguments will result in an error\n",
      "  \"will result in an error\", FutureWarning)\n"
     ]
    }
   ],
   "source": [
    "textFeatures = result['Text'].copy()\n",
    "textFeatures = textFeatures.apply(preprocess)\n",
    "from sklearn.feature_extraction.text import TfidfVectorizer\n",
    "vectorizer = TfidfVectorizer(\"english\")\n",
    "features = vectorizer.fit_transform(textFeatures)"
   ]
  },
  {
   "cell_type": "code",
   "execution_count": 35,
   "id": "expected-bones",
   "metadata": {},
   "outputs": [
    {
     "data": {
      "text/plain": [
       "<11928x118147 sparse matrix of type '<class 'numpy.float64'>'\n",
       "\twith 915881 stored elements in Compressed Sparse Row format>"
      ]
     },
     "execution_count": 35,
     "metadata": {},
     "output_type": "execute_result"
    }
   ],
   "source": [
    "features"
   ]
  },
  {
   "cell_type": "code",
   "execution_count": 50,
   "id": "expanded-bridges",
   "metadata": {},
   "outputs": [
    {
     "data": {
      "text/plain": [
       "array([0, 0, 0, ..., 1, 1, 1], dtype=int64)"
      ]
     },
     "execution_count": 50,
     "metadata": {},
     "output_type": "execute_result"
    }
   ],
   "source": [
    "from sklearn.linear_model import LogisticRegression\n",
    "y = df['Class'].values\n",
    "y"
   ]
  },
  {
   "cell_type": "code",
   "execution_count": 51,
   "id": "reported-issue",
   "metadata": {},
   "outputs": [
    {
     "data": {
      "text/plain": [
       "(9542,)"
      ]
     },
     "execution_count": 51,
     "metadata": {},
     "output_type": "execute_result"
    }
   ],
   "source": [
    "y.shape"
   ]
  },
  {
   "cell_type": "code",
   "execution_count": 52,
   "id": "immediate-country",
   "metadata": {},
   "outputs": [],
   "source": [
    "X = features[0:9542,:]\n",
    "from sklearn.model_selection import train_test_split\n",
    "X_train,X_test, y_train,y_test = train_test_split(X,y,test_size=0.2,random_state=4)\n",
    "LR = LogisticRegression(solver='saga').fit(X_train,y_train)\n",
    "y_predict = LR.predict(X_test)"
   ]
  },
  {
   "cell_type": "markdown",
   "id": "collected-bargain",
   "metadata": {},
   "source": [
    "metrics are here"
   ]
  },
  {
   "cell_type": "code",
   "execution_count": 60,
   "id": "convinced-israel",
   "metadata": {},
   "outputs": [
    {
     "name": "stdout",
     "output_type": "stream",
     "text": [
      "acc score is:  0.9591409114719749\n",
      "[[ 781   74]\n",
      " [   4 1050]]\n",
      "              precision    recall  f1-score   support\n",
      "\n",
      "           0       0.93      1.00      0.96      1054\n",
      "           1       0.99      0.91      0.95       855\n",
      "\n",
      "    accuracy                           0.96      1909\n",
      "   macro avg       0.96      0.95      0.96      1909\n",
      "weighted avg       0.96      0.96      0.96      1909\n",
      "\n",
      "f1-score is:  0.9589255156520845\n"
     ]
    },
    {
     "data": {
      "image/png": "[encoded data removed]",
      "text/plain": [
       "<Figure size 288x288 with 2 Axes>"
      ]
     },
     "metadata": {
      "needs_background": "light"
     },
     "output_type": "display_data"
    },
    {
     "name": "stdout",
     "output_type": "stream",
     "text": [
      "ROC-AUC Score is:  0.9548276129919993\n"
     ]
    },
    {
     "data": {
      "image/png": "[encoded data removed]",
      "text/plain": [
       "<Figure size 432x288 with 1 Axes>"
      ]
     },
     "metadata": {
      "needs_background": "light"
     },
     "output_type": "display_data"
    }
   ],
   "source": [
    "from sklearn.metrics import accuracy_score ,classification_report, confusion_matrix, f1_score\n",
    "print('acc score is: ',accuracy_score(y_test,y_predict))\n",
    "\n",
    "print(confusion_matrix(y_test, y_predict, labels=[1,0]))\n",
    "print (classification_report(y_test, y_predict))\n",
    "\n",
    "print('f1-score is: ',f1_score(y_test, y_predict, average='weighted'))\n",
    "\n",
    "import seaborn as sns\n",
    "cm = confusion_matrix(y_test, y_predict)\n",
    "fig, ax = plt.subplots(figsize=(4,4))\n",
    "sns.heatmap(cm, annot=True)\n",
    "plt.show()\n",
    "\n",
    "from sklearn.metrics import roc_auc_score, roc_curve\n",
    "score = roc_auc_score(y_test, y_predict)\n",
    "print('ROC-AUC Score is: ', score)\n",
    "fpr, tpr, thresholds = roc_curve(y_test, y_predict)\n",
    "plt.plot(fpr, tpr, label='ROC Curve (area=%0.2f)' % score)\n",
    "plt.plot([0,1], [0,1], 'k--')\n",
    "plt.legend()\n",
    "plt.show()"
   ]
  },
  {
   "cell_type": "code",
   "execution_count": 61,
   "id": "virgin-prayer",
   "metadata": {},
   "outputs": [],
   "source": [
    "LR = LogisticRegression(solver='saga').fit(X,y)"
   ]
  },
  {
   "cell_type": "code",
   "execution_count": 62,
   "id": "african-pottery",
   "metadata": {},
   "outputs": [
    {
     "data": {
      "text/plain": [
       "LogisticRegression(solver='saga')"
      ]
     },
     "execution_count": 62,
     "metadata": {},
     "output_type": "execute_result"
    }
   ],
   "source": [
    "LR"
   ]
  },
  {
   "cell_type": "code",
   "execution_count": 63,
   "id": "celtic-excitement",
   "metadata": {},
   "outputs": [],
   "source": [
    "A = LR.predict_proba(features[9542:,:])"
   ]
  },
  {
   "cell_type": "code",
   "execution_count": 64,
   "id": "assisted-spending",
   "metadata": {},
   "outputs": [
    {
     "data": {
      "text/plain": [
       "(2386, 2)"
      ]
     },
     "execution_count": 64,
     "metadata": {},
     "output_type": "execute_result"
    }
   ],
   "source": [
    "A.shape"
   ]
  },
  {
   "cell_type": "code",
   "execution_count": 65,
   "id": "earned-person",
   "metadata": {},
   "outputs": [
    {
     "data": {
      "text/plain": [
       "array([[0.01855105, 0.98144895],\n",
       "       [0.05747446, 0.94252554],\n",
       "       [0.79417712, 0.20582288],\n",
       "       ...,\n",
       "       [0.00850374, 0.99149626],\n",
       "       [0.95742906, 0.04257094],\n",
       "       [0.94882719, 0.05117281]])"
      ]
     },
     "execution_count": 65,
     "metadata": {},
     "output_type": "execute_result"
    }
   ],
   "source": [
    "A"
   ]
  },
  {
   "cell_type": "code",
   "execution_count": 75,
   "id": "blank-scholar",
   "metadata": {},
   "outputs": [],
   "source": [
    "res = A[:,1]"
   ]
  },
  {
   "cell_type": "code",
   "execution_count": 76,
   "id": "destroyed-visitor",
   "metadata": {},
   "outputs": [
    {
     "data": {
      "text/plain": [
       "(2386,)"
      ]
     },
     "execution_count": 76,
     "metadata": {},
     "output_type": "execute_result"
    }
   ],
   "source": [
    "res.shape"
   ]
  },
  {
   "cell_type": "code",
   "execution_count": 77,
   "id": "alive-budget",
   "metadata": {},
   "outputs": [
    {
     "data": {
      "text/plain": [
       "array([0.98144895, 0.94252554, 0.20582288, ..., 0.99149626, 0.04257094,\n",
       "       0.05117281])"
      ]
     },
     "execution_count": 77,
     "metadata": {},
     "output_type": "execute_result"
    }
   ],
   "source": [
    "res"
   ]
  },
  {
   "cell_type": "code",
   "execution_count": 78,
   "id": "mobile-anthony",
   "metadata": {},
   "outputs": [],
   "source": [
    "res_spam = A[:,1]"
   ]
  },
  {
   "cell_type": "code",
   "execution_count": 79,
   "id": "innocent-punch",
   "metadata": {},
   "outputs": [
    {
     "data": {
      "text/plain": [
       "array([0.98144895, 0.94252554, 0.20582288, ..., 0.99149626, 0.04257094,\n",
       "       0.05117281])"
      ]
     },
     "execution_count": 79,
     "metadata": {},
     "output_type": "execute_result"
    }
   ],
   "source": [
    "res_spam"
   ]
  },
  {
   "cell_type": "code",
   "execution_count": 80,
   "id": "hispanic-location",
   "metadata": {},
   "outputs": [],
   "source": [
    "submit = pd.DataFrame(data=res_spam,columns=['A'])"
   ]
  },
  {
   "cell_type": "code",
   "execution_count": 81,
   "id": "appointed-challenge",
   "metadata": {},
   "outputs": [
    {
     "data": {
      "text/html": [
       "<div>\n",
       "<style scoped>\n",
       "    .dataframe tbody tr th:only-of-type {\n",
       "        vertical-align: middle;\n",
       "    }\n",
       "\n",
       "    .dataframe tbody tr th {\n",
       "        vertical-align: top;\n",
       "    }\n",
       "\n",
       "    .dataframe thead th {\n",
       "        text-align: right;\n",
       "    }\n",
       "</style>\n",
       "<table border=\"1\" class=\"dataframe\">\n",
       "  <thead>\n",
       "    <tr style=\"text-align: right;\">\n",
       "      <th></th>\n",
       "      <th>A</th>\n",
       "    </tr>\n",
       "  </thead>\n",
       "  <tbody>\n",
       "    <tr>\n",
       "      <th>0</th>\n",
       "      <td>0.981449</td>\n",
       "    </tr>\n",
       "    <tr>\n",
       "      <th>1</th>\n",
       "      <td>0.942526</td>\n",
       "    </tr>\n",
       "    <tr>\n",
       "      <th>2</th>\n",
       "      <td>0.205823</td>\n",
       "    </tr>\n",
       "    <tr>\n",
       "      <th>3</th>\n",
       "      <td>0.142033</td>\n",
       "    </tr>\n",
       "    <tr>\n",
       "      <th>4</th>\n",
       "      <td>0.998236</td>\n",
       "    </tr>\n",
       "    <tr>\n",
       "      <th>...</th>\n",
       "      <td>...</td>\n",
       "    </tr>\n",
       "    <tr>\n",
       "      <th>2381</th>\n",
       "      <td>0.158787</td>\n",
       "    </tr>\n",
       "    <tr>\n",
       "      <th>2382</th>\n",
       "      <td>0.067492</td>\n",
       "    </tr>\n",
       "    <tr>\n",
       "      <th>2383</th>\n",
       "      <td>0.991496</td>\n",
       "    </tr>\n",
       "    <tr>\n",
       "      <th>2384</th>\n",
       "      <td>0.042571</td>\n",
       "    </tr>\n",
       "    <tr>\n",
       "      <th>2385</th>\n",
       "      <td>0.051173</td>\n",
       "    </tr>\n",
       "  </tbody>\n",
       "</table>\n",
       "<p>2386 rows × 1 columns</p>\n",
       "</div>"
      ],
      "text/plain": [
       "             A\n",
       "0     0.981449\n",
       "1     0.942526\n",
       "2     0.205823\n",
       "3     0.142033\n",
       "4     0.998236\n",
       "...        ...\n",
       "2381  0.158787\n",
       "2382  0.067492\n",
       "2383  0.991496\n",
       "2384  0.042571\n",
       "2385  0.051173\n",
       "\n",
       "[2386 rows x 1 columns]"
      ]
     },
     "execution_count": 81,
     "metadata": {},
     "output_type": "execute_result"
    }
   ],
   "source": [
    "submit"
   ]
  },
  {
   "cell_type": "markdown",
   "id": "exterior-pulse",
   "metadata": {},
   "source": [
    "this is the probibility of being spam in test.csv"
   ]
  }
 ],
 "metadata": {
  "kernelspec": {
   "display_name": "Python 3",
   "language": "python",
   "name": "python3"
  },
  "language_info": {
   "codemirror_mode": {
    "name": "ipython",
    "version": 3
   },
   "file_extension": ".py",
   "mimetype": "text/x-python",
   "name": "python",
   "nbconvert_exporter": "python",
   "pygments_lexer": "ipython3",
   "version": "3.7.4"
  }
 },
 "nbformat": 4,
 "nbformat_minor": 5
}
